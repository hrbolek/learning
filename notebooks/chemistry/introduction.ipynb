{
  "nbformat": 4,
  "nbformat_minor": 0,
  "metadata": {
    "colab": {
      "provenance": [],
      "toc_visible": true,
      "authorship_tag": "ABX9TyNtA0Ycxn4UfIlhWYIOWVsr",
      "include_colab_link": true
    },
    "kernelspec": {
      "name": "python3",
      "display_name": "Python 3"
    },
    "language_info": {
      "name": "python"
    }
  },
  "cells": [
    {
      "cell_type": "markdown",
      "metadata": {
        "id": "view-in-github",
        "colab_type": "text"
      },
      "source": [
        "<a href=\"https://colab.research.google.com/github/hrbolek/learning/blob/master/notebooks/chemistry/introduction.ipynb\" target=\"_parent\"><img src=\"https://colab.research.google.com/assets/colab-badge.svg\" alt=\"Open In Colab\"/></a>"
      ]
    },
    {
      "cell_type": "code",
      "execution_count": 2,
      "metadata": {
        "id": "R4e86XBdxUh1",
        "outputId": "75b033a5-eb03-44fb-a3f5-17e5270987c6",
        "colab": {
          "base_uri": "https://localhost:8080/"
        }
      },
      "outputs": [
        {
          "output_type": "stream",
          "name": "stdout",
          "text": [
            "\u001b[2K   \u001b[90m━━━━━━━━━━━━━━━━━━━━━━━━━━━━━━━━━━━━━━━━\u001b[0m \u001b[32m36.2/36.2 MB\u001b[0m \u001b[31m55.6 MB/s\u001b[0m eta \u001b[36m0:00:00\u001b[0m\n",
            "\u001b[?25h"
          ]
        }
      ],
      "source": [
        "!pip -q install rdkit py3Dmol"
      ]
    },
    {
      "cell_type": "code",
      "source": [
        "from rdkit import Chem\n",
        "from rdkit.Chem import AllChem, Descriptors\n",
        "import py3Dmol\n",
        "\n",
        "mol = Chem.AddHs(Chem.MolFromSmiles(\"c1ccccc1O\"))  # fenol\n",
        "AllChem.EmbedMolecule(mol, AllChem.ETKDG())\n",
        "AllChem.UFFOptimizeMolecule(mol)\n",
        "\n",
        "mw = Descriptors.MolWt(mol)\n",
        "print(\"Mol. hmotnost:\", round(mw, 2))\n",
        "\n",
        "# 3D náhled v Colabu\n",
        "mb = Chem.MolToMolBlock(mol)\n",
        "view = py3Dmol.view(width=400, height=300)\n",
        "view.addModel(mb, 'sdf'); view.setStyle({'stick':{}})\n",
        "view.zoomTo(); view.show()"
      ],
      "metadata": {
        "id": "XpqJAxHWxoBC",
        "outputId": "8eb5149b-e572-46d7-9f10-7e435228ccab",
        "colab": {
          "base_uri": "https://localhost:8080/",
          "height": 335
        }
      },
      "execution_count": 3,
      "outputs": [
        {
          "output_type": "stream",
          "name": "stdout",
          "text": [
            "Mol. hmotnost: 94.11\n"
          ]
        },
        {
          "output_type": "display_data",
          "data": {
            "application/3dmoljs_load.v0": "<div id=\"3dmolviewer_1761218124521365\"  style=\"position: relative; width: 400px; height: 300px;\">\n        <p id=\"3dmolwarning_1761218124521365\" style=\"background-color:#ffcccc;color:black\">3Dmol.js failed to load for some reason.  Please check your browser console for error messages.<br></p>\n        </div>\n<script>\n\nvar loadScriptAsync = function(uri){\n  return new Promise((resolve, reject) => {\n    //this is to ignore the existence of requirejs amd\n    var savedexports, savedmodule;\n    if (typeof exports !== 'undefined') savedexports = exports;\n    else exports = {}\n    if (typeof module !== 'undefined') savedmodule = module;\n    else module = {}\n\n    var tag = document.createElement('script');\n    tag.src = uri;\n    tag.async = true;\n    tag.onload = () => {\n        exports = savedexports;\n        module = savedmodule;\n        resolve();\n    };\n  var firstScriptTag = document.getElementsByTagName('script')[0];\n  firstScriptTag.parentNode.insertBefore(tag, firstScriptTag);\n});\n};\n\nif(typeof $3Dmolpromise === 'undefined') {\n$3Dmolpromise = null;\n  $3Dmolpromise = loadScriptAsync('https://cdn.jsdelivr.net/npm/3dmol@2.5.3/build/3Dmol-min.js');\n}\n\nvar viewer_1761218124521365 = null;\nvar warn = document.getElementById(\"3dmolwarning_1761218124521365\");\nif(warn) {\n    warn.parentNode.removeChild(warn);\n}\n$3Dmolpromise.then(function() {\nviewer_1761218124521365 = $3Dmol.createViewer(document.getElementById(\"3dmolviewer_1761218124521365\"),{backgroundColor:\"white\"});\nviewer_1761218124521365.zoomTo();\n\tviewer_1761218124521365.addModel(\"\\n     RDKit          3D\\n\\n 13 13  0  0  0  0  0  0  0  0999 V2000\\n    0.5477    1.0728    0.2094 C   0  0  0  0  0  0  0  0  0  0  0  0\\n   -0.7547    1.2809   -0.2567 C   0  0  0  0  0  0  0  0  0  0  0  0\\n   -1.5716    0.1880   -0.5631 C   0  0  0  0  0  0  0  0  0  0  0  0\\n   -1.0866   -1.1140   -0.4037 C   0  0  0  0  0  0  0  0  0  0  0  0\\n    0.2155   -1.3240    0.0622 C   0  0  0  0  0  0  0  0  0  0  0  0\\n    1.0364   -0.2324    0.3701 C   0  0  0  0  0  0  0  0  0  0  0  0\\n    2.3313   -0.4542    0.8333 O   0  0  0  0  0  0  0  0  0  0  0  0\\n    1.1746    1.9234    0.4447 H   0  0  0  0  0  0  0  0  0  0  0  0\\n   -1.1305    2.2884   -0.3802 H   0  0  0  0  0  0  0  0  0  0  0  0\\n   -2.5792    0.3498   -0.9237 H   0  0  0  0  0  0  0  0  0  0  0  0\\n   -1.7192   -1.9595   -0.6410 H   0  0  0  0  0  0  0  0  0  0  0  0\\n    0.5867   -2.3337    0.1841 H   0  0  0  0  0  0  0  0  0  0  0  0\\n    2.9496    0.3146    1.0646 H   0  0  0  0  0  0  0  0  0  0  0  0\\n  1  2  2  0\\n  2  3  1  0\\n  3  4  2  0\\n  4  5  1  0\\n  5  6  2  0\\n  6  7  1  0\\n  6  1  1  0\\n  1  8  1  0\\n  2  9  1  0\\n  3 10  1  0\\n  4 11  1  0\\n  5 12  1  0\\n  7 13  1  0\\nM  END\\n\",\"sdf\");\n\tviewer_1761218124521365.setStyle({\"stick\": {}});\n\tviewer_1761218124521365.zoomTo();\nviewer_1761218124521365.render();\n});\n</script>",
            "text/html": [
              "<div id=\"3dmolviewer_1761218124521365\"  style=\"position: relative; width: 400px; height: 300px;\">\n",
              "        <p id=\"3dmolwarning_1761218124521365\" style=\"background-color:#ffcccc;color:black\">3Dmol.js failed to load for some reason.  Please check your browser console for error messages.<br></p>\n",
              "        </div>\n",
              "<script>\n",
              "\n",
              "var loadScriptAsync = function(uri){\n",
              "  return new Promise((resolve, reject) => {\n",
              "    //this is to ignore the existence of requirejs amd\n",
              "    var savedexports, savedmodule;\n",
              "    if (typeof exports !== 'undefined') savedexports = exports;\n",
              "    else exports = {}\n",
              "    if (typeof module !== 'undefined') savedmodule = module;\n",
              "    else module = {}\n",
              "\n",
              "    var tag = document.createElement('script');\n",
              "    tag.src = uri;\n",
              "    tag.async = true;\n",
              "    tag.onload = () => {\n",
              "        exports = savedexports;\n",
              "        module = savedmodule;\n",
              "        resolve();\n",
              "    };\n",
              "  var firstScriptTag = document.getElementsByTagName('script')[0];\n",
              "  firstScriptTag.parentNode.insertBefore(tag, firstScriptTag);\n",
              "});\n",
              "};\n",
              "\n",
              "if(typeof $3Dmolpromise === 'undefined') {\n",
              "$3Dmolpromise = null;\n",
              "  $3Dmolpromise = loadScriptAsync('https://cdn.jsdelivr.net/npm/3dmol@2.5.3/build/3Dmol-min.js');\n",
              "}\n",
              "\n",
              "var viewer_1761218124521365 = null;\n",
              "var warn = document.getElementById(\"3dmolwarning_1761218124521365\");\n",
              "if(warn) {\n",
              "    warn.parentNode.removeChild(warn);\n",
              "}\n",
              "$3Dmolpromise.then(function() {\n",
              "viewer_1761218124521365 = $3Dmol.createViewer(document.getElementById(\"3dmolviewer_1761218124521365\"),{backgroundColor:\"white\"});\n",
              "viewer_1761218124521365.zoomTo();\n",
              "\tviewer_1761218124521365.addModel(\"\\n     RDKit          3D\\n\\n 13 13  0  0  0  0  0  0  0  0999 V2000\\n    0.5477    1.0728    0.2094 C   0  0  0  0  0  0  0  0  0  0  0  0\\n   -0.7547    1.2809   -0.2567 C   0  0  0  0  0  0  0  0  0  0  0  0\\n   -1.5716    0.1880   -0.5631 C   0  0  0  0  0  0  0  0  0  0  0  0\\n   -1.0866   -1.1140   -0.4037 C   0  0  0  0  0  0  0  0  0  0  0  0\\n    0.2155   -1.3240    0.0622 C   0  0  0  0  0  0  0  0  0  0  0  0\\n    1.0364   -0.2324    0.3701 C   0  0  0  0  0  0  0  0  0  0  0  0\\n    2.3313   -0.4542    0.8333 O   0  0  0  0  0  0  0  0  0  0  0  0\\n    1.1746    1.9234    0.4447 H   0  0  0  0  0  0  0  0  0  0  0  0\\n   -1.1305    2.2884   -0.3802 H   0  0  0  0  0  0  0  0  0  0  0  0\\n   -2.5792    0.3498   -0.9237 H   0  0  0  0  0  0  0  0  0  0  0  0\\n   -1.7192   -1.9595   -0.6410 H   0  0  0  0  0  0  0  0  0  0  0  0\\n    0.5867   -2.3337    0.1841 H   0  0  0  0  0  0  0  0  0  0  0  0\\n    2.9496    0.3146    1.0646 H   0  0  0  0  0  0  0  0  0  0  0  0\\n  1  2  2  0\\n  2  3  1  0\\n  3  4  2  0\\n  4  5  1  0\\n  5  6  2  0\\n  6  7  1  0\\n  6  1  1  0\\n  1  8  1  0\\n  2  9  1  0\\n  3 10  1  0\\n  4 11  1  0\\n  5 12  1  0\\n  7 13  1  0\\nM  END\\n\",\"sdf\");\n",
              "\tviewer_1761218124521365.setStyle({\"stick\": {}});\n",
              "\tviewer_1761218124521365.zoomTo();\n",
              "viewer_1761218124521365.render();\n",
              "});\n",
              "</script>"
            ]
          },
          "metadata": {}
        }
      ]
    },
    {
      "cell_type": "code",
      "source": [],
      "metadata": {
        "id": "gfXrMldUx9fV"
      },
      "execution_count": null,
      "outputs": []
    }
  ]
}