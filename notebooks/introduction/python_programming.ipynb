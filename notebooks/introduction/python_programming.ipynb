{
  "cells": [
    {
      "cell_type": "markdown",
      "metadata": {
        "id": "view-in-github",
        "colab_type": "text"
      },
      "source": [
        "<a href=\"https://colab.research.google.com/github/hrbolek/learning/blob/master/notebooks/introduction/python_programming.ipynb\" target=\"_parent\"><img src=\"https://colab.research.google.com/assets/colab-badge.svg\" alt=\"Open In Colab\"/></a>"
      ]
    },
    {
      "cell_type": "markdown",
      "source": [
        "# Python"
      ],
      "metadata": {
        "id": "ckFzaEhcbW1j"
      }
    },
    {
      "cell_type": "markdown",
      "source": [
        "## Základ: číselné výpočty a pole\n",
        "\n",
        "- **NumPy** — základní n-rozměrná pole, vektorizace, lineární algebra, náhodná čísla.\n",
        "Kdy: všude; většina knihoven na něm stojí.\n",
        "\n",
        "- **SciPy** — „švýcarák“ pro vědu: optimize, integrate, signal, fft, linalg, sparse, interpolate, stats.\n",
        "Kdy: řešení ODE, optimalizace, filtrace, speciální funkce.\n",
        "\n",
        "- **CuPy** — NumPy-like API na GPU (CUDA).\n",
        "Kdy: velká pole/FFT/LA na NVIDIA GPU bez přepisování kódu.\n",
        "\n",
        "- **JAX** — NumPy API + auto-diferenciace, JIT kompilace (XLA) na CPU/GPU/TPU.\n",
        "Kdy: diferenciovatelné simulace, ML, optimalizace.\n",
        "\n",
        "## Data tabulková, mřížová a IO\n",
        "\n",
        "- **pandas** — tabulky, groupby, spojování, časové řady.\n",
        "Kdy: analýzy, ETL, agregace.\n",
        "\n",
        "- **xarray** — n-rozměrná pole s pojmenovanými osami (čas, šířka, výška…), skvělé pro vědy o Zemi a mřížová data.\n",
        "Kdy: netCDF, zpracování klimatických/meteorologických polí.\n",
        "\n",
        "- **h5py**, **netCDF4**, **Zarr** — formáty velkých dat (HDF5/netCDF/Zarr), lazy-loading, chunking.\n",
        "\n",
        "- **Polars** — rychlé DataFrame (Rust backend).\n",
        "Kdy: větší tabulky, výkon nad pandas.\n",
        "\n",
        "## Vizualizace\n",
        "\n",
        "- **Matplotlib** — základní 2D/3D grafy; nízkoúrovňový a všudypřítomný.\n",
        "\n",
        "- **Seaborn** — statistická vizualizace na Matplotlibu (distribuce, relace).\n",
        "\n",
        "- **Plotly**, **Bokeh**, **Altair** — interaktivní grafy do notebooku i webu.\n",
        "\n",
        "- **PyVista**/**Mayavi** — 3D vědecká vizualizace (mřížky, objemy, isoplochy).\n",
        "\n",
        "- **py3Dmol**, **nglview** — molekulární 3D vizualizace (chemie/MD).\n",
        "\n",
        "## Optimalizace, statistika, pravděpodobnost\n",
        "\n",
        "- **SciPy.optimize** — nelineární optimalizace, fitování.\n",
        "\n",
        "- **CVXPY** — konvexní programování, sdružené solvery (SCS, ECOS, OSQP, GUROBI…).\n",
        "\n",
        "- **Pyomo** — obecné matematické programování (LP/QP/MIP/NLP) s externími solvery.\n",
        "\n",
        "- **statsmodels** — klasická statistika, GLM, časové řady (ARIMA), inference.\n",
        "\n",
        "- **Pingouin** — rychlé statistiky (t-testy, ANOVA, korelace) s hezkým API.\n",
        "\n",
        "- **PyMC**, **NumPyro**, **Stan** (CmdStanPy) — bayesovské modelování, MCMC/VI.\n",
        "\n",
        "## Strojové učení a autodiferenciace\n",
        "\n",
        "- **scikit-learn** — klasické ML (regrese, klasifikace, clustering, model selection).\n",
        "\n",
        "- **PyTorch**, **TensorFlow**/**Keras** — deep learning, automatická diferenciace, GPU.\n",
        "\n",
        "- **JAX** + **Flax**/**Haiku** — moderní DL stack s JIT a vektorizací.\n",
        "\n",
        "## Symbolika, CAS, přesné výpočty\n",
        "\n",
        "- **SymPy** — symbolická matematika (algebra, rovnice, derivace, integrály), physics moduly (mechanika, kvantovka), Beam pro nosníky.\n",
        "\n",
        "- **mpmath** — libovolná přesnost, speciální funkce (čistě numericky).\n",
        "\n",
        "## Diferenciální rovnice a kontrola\n",
        "\n",
        "- **SciPy.integrate** — ODE/PDE prototypování (odeint/solve_ivp).\n",
        "\n",
        "##DifferentialEq ekosystémy v Pythonu:\n",
        "\n",
        "- **Diffrax** (na JAX) — vysoce výkonné ODE/SDE se sazebníky a adjointy.\n",
        "\n",
        "- **torchdiffeq** — ODE v PyTorch (diferenciovatelné).\n",
        "\n",
        "- **python-control** — klasická teorie řízení (LTI, Bode, Nyquist, kořenové lokusy).\n",
        "\n",
        "## Signál, obraz, časové řady\n",
        "\n",
        "- **SciPy.signal** — filtry, spektrum, konvoluce, STFT.\n",
        "\n",
        "- **scikit-image** — zpracování obrazu (segmentace, filtry, feature engineering).\n",
        "\n",
        "- **OpenCV** — počítačové vidění, rychlé C++ jádro, IO videa.\n",
        "\n",
        "- **tsfresh**, **sktime** — feature extrakce a ML nad časovými řadami.\n",
        "\n",
        "## Geovědy, mapy, GIS\n",
        "\n",
        "- **GeoPandas** — geoprostorové DataFrame (shapely, fiona, PROJ).\n",
        "\n",
        "- **Rasterio**, **rioxarray** — rastry (GeoTIFF), práce s projekcemi.\n",
        "\n",
        "- **PyProj** — transformace souřadnic, datumy.\n",
        "\n",
        "- **PyKrige**, **verde** — geostatistika, kriging, gridding.\n",
        "\n",
        "## Chemie, fyzika, materiály a MD\n",
        "\n",
        "- **ASE** (Atomic Simulation Environment) — stavba buněk, interfacing k DFT kódům, IO.\n",
        "\n",
        "- **pymatgen** — materiálová věda, krystalografie, phase diagrams.\n",
        "\n",
        "- **OpenMM** — molekulová dynamika na CPU/GPU, snadné skriptování v Pythonu.\n",
        "\n",
        "- **MDAnalysis**, **MDTraj** — analýza trajektorií MD.\n",
        "\n",
        "- **RDKit**, **Open Babel** — cheminformatika (SMILES, 2D/3D, deskriptory).\n",
        "\n",
        "- **Psi4**, **PySCF** — kvantová chemie (HF/DFT/post-HF).\n",
        "\n",
        "- **Astropy** — astronomie (čas, souřadnice, FITS, jednotky).\n",
        "\n",
        "## Numerická lineární algebra, řídké matice, PDE/FEM\n",
        "\n",
        "- **SciPy.sparse** — řídké matice, iterativní řešiče.\n",
        "\n",
        "- **PETSc** for Python (petsc4py) — škálovatelné řešiče LA/PDE na HPC.\n",
        "\n",
        "- **FEniCS**, **Firedrake**, **SfePy** — FEM pro PDE (slabé formulace, mesh, BC).\n",
        "\n",
        "- **PyAMG** — algebraické multigridy.\n",
        "\n",
        "## Zrychlení, paralelizace a škálování\n",
        "\n",
        "- **Numba** — JIT kompilace (LLVM) pro NumPy-like kód, včetně paralelu a CUDA.\n",
        "\n",
        "- **Cython** — statické typování + C rozšíření pro kritické smyčky.\n",
        "\n",
        "- **multiprocessing**, **concurrent.futures**, **joblib** — lokální paralelizace.\n",
        "\n",
        "- **Dask** — škálování nad NumPy/pandas/xarray (lokálně i cluster), lazy graf.\n",
        "\n",
        "- **Ray** — distribuované tasky/aktory, škálovatelné ML a simulace.\n",
        "\n",
        "- **mpi4py** — MPI pro HPC klastry.\n",
        "\n",
        "## Jednotky, fyzikální konstanty, metadata\n",
        "\n",
        "- **pint**, **unyt** — fyzikální jednotky s kontrolou dimenzí.\n",
        "\n",
        "- **scipy.constants**, **astropy.constants** — standardní konstanty (SI, astronomické).\n",
        "\n",
        "## Reprodukovatelnost, testy, dokumentace\n",
        "\n",
        "- **conda**/**mamba**, **Poetry**, **pip-tools** — správa prostředí a závislostí.\n",
        "\n",
        "- **pytest**, **hypothesis** — testování a property-based tests.\n",
        "\n",
        "- **Sphinx**, **mkdocs** — dokumentace s napojením na docstringy a příklady.\n",
        "\n",
        "- **Jupyter**, **Jupytext**, **nbclient** — notebooky, skript/notebook dualita, CI běhy."
      ],
      "metadata": {
        "id": "mU7d-LTpbbus"
      }
    },
    {
      "cell_type": "markdown",
      "metadata": {
        "id": "UEKurTi1gFCL"
      },
      "source": [
        "# Základy programování v Pythonu"
      ]
    },
    {
      "cell_type": "code",
      "source": [
        "import sys\n",
        "print(sys.version)"
      ],
      "metadata": {
        "colab": {
          "base_uri": "https://localhost:8080/"
        },
        "id": "lPRVzuEcLf_A",
        "outputId": "8adaa786-8818-41da-86a9-d2cd5573a172"
      },
      "execution_count": 4,
      "outputs": [
        {
          "output_type": "stream",
          "name": "stdout",
          "text": [
            "7.34.0\n",
            "3.12.12 (main, Oct 10 2025, 08:52:57) [GCC 11.4.0]\n"
          ]
        }
      ]
    },
    {
      "cell_type": "markdown",
      "metadata": {
        "id": "hujQ_uQW_EOF"
      },
      "source": [
        "Alternativa k tomuto průvodci je dostupná ve formě videa (anglicky) **[zde](https://youtu.be/dT_XDTarsjw?t=45)**, dokument si můžete otevřít **[zde](https://colab.research.google.com/drive/19QLO7-6Uu5PSRKZuSbpVzXzsdUcvyvPI)**.\n",
        "\n",
        "Stejný autor zpracoval i úvod do Pandas a Numpy **[video](https://www.youtube.com/watch?v=oxEak3HHUOM)** a **[dokument](https://colab.research.google.com/drive/1YgT8zlXjsPmGRAHfAa0GiVgs6WzZxPap)**."
      ]
    },
    {
      "cell_type": "markdown",
      "metadata": {
        "id": "nU8ay5TDg2-z"
      },
      "source": [
        "## Jednoduché datové struktury"
      ]
    },
    {
      "cell_type": "code",
      "execution_count": null,
      "metadata": {
        "colab": {
          "base_uri": "https://localhost:8080/",
          "height": 35
        },
        "id": "3KTTFfKRf83d",
        "outputId": "959da1ba-869c-41ce-9404-f7d31f5103e3"
      },
      "outputs": [
        {
          "name": "stdout",
          "output_type": "stream",
          "text": [
            "4\n"
          ]
        }
      ],
      "source": [
        "# cele cislo\n",
        "a = 4\n",
        "print(a)"
      ]
    },
    {
      "cell_type": "code",
      "execution_count": null,
      "metadata": {
        "colab": {
          "base_uri": "https://localhost:8080/",
          "height": 35
        },
        "id": "qXQDNPQyhFHP",
        "outputId": "12646220-c639-4518-fd27-c2c77c295449"
      },
      "outputs": [
        {
          "name": "stdout",
          "output_type": "stream",
          "text": [
            "1.4\n"
          ]
        }
      ],
      "source": [
        "# desetinne cislo\n",
        "b = 1.4\n",
        "print(b)"
      ]
    },
    {
      "cell_type": "code",
      "execution_count": null,
      "metadata": {
        "colab": {
          "base_uri": "https://localhost:8080/",
          "height": 54
        },
        "id": "QNLvLC6hhJn9",
        "outputId": "1baed6a1-85f8-486e-aa2d-e14f4d11cd70"
      },
      "outputs": [
        {
          "name": "stdout",
          "output_type": "stream",
          "text": [
            "Ahoj\n",
            "Nazdar\n"
          ]
        }
      ],
      "source": [
        "# textovy retezec\n",
        "cstr = \"Ahoj\"\n",
        "print(cstr)\n",
        "dstr = 'Nazdar'\n",
        "print(dstr)"
      ]
    },
    {
      "cell_type": "code",
      "execution_count": null,
      "metadata": {
        "colab": {
          "base_uri": "https://localhost:8080/",
          "height": 54
        },
        "id": "m876ZPtCkDra",
        "outputId": "6ee378f6-f4f7-4a9d-a542-7fc5e19cb190"
      },
      "outputs": [
        {
          "name": "stdout",
          "output_type": "stream",
          "text": [
            "True\n",
            "False\n"
          ]
        }
      ],
      "source": [
        "# logicka promenna\n",
        "cbool = True\n",
        "dbool = False\n",
        "print(cbool)\n",
        "print(dbool)"
      ]
    },
    {
      "cell_type": "markdown",
      "metadata": {
        "id": "dryhII46m-lI"
      },
      "source": [
        "### Operátory"
      ]
    },
    {
      "cell_type": "code",
      "execution_count": null,
      "metadata": {
        "colab": {
          "base_uri": "https://localhost:8080/",
          "height": 54
        },
        "id": "OwZIAf-knBl5",
        "outputId": "f0d34898-d7a1-4727-f36e-bfff99c99545"
      },
      "outputs": [
        {
          "name": "stdout",
          "output_type": "stream",
          "text": [
            "soucet cisel 5.4\n",
            "soucet retezcu Ahoj Nazdar\n"
          ]
        }
      ],
      "source": [
        "# plus\n",
        "print('soucet cisel', a + b)\n",
        "print('soucet retezcu', cstr + ' ' + dstr)"
      ]
    },
    {
      "cell_type": "code",
      "execution_count": null,
      "metadata": {
        "colab": {
          "base_uri": "https://localhost:8080/",
          "height": 35
        },
        "id": "y_j6cIjknXc_",
        "outputId": "f65a6d4b-7442-4ffb-808e-0da338cc86f5"
      },
      "outputs": [
        {
          "name": "stdout",
          "output_type": "stream",
          "text": [
            "rozdil cisel 2.6\n"
          ]
        }
      ],
      "source": [
        "# minus\n",
        "print('rozdil cisel', a - b)"
      ]
    },
    {
      "cell_type": "code",
      "execution_count": null,
      "metadata": {
        "colab": {
          "base_uri": "https://localhost:8080/",
          "height": 54
        },
        "id": "5-V3t_gHnipk",
        "outputId": "834f1443-4e5f-419b-da03-e3b045075135"
      },
      "outputs": [
        {
          "name": "stdout",
          "output_type": "stream",
          "text": [
            "soucin 5.6\n",
            "==============================\n"
          ]
        }
      ],
      "source": [
        "# krat\n",
        "print('soucin', a * b)\n",
        "print('=' * 30)"
      ]
    },
    {
      "cell_type": "code",
      "execution_count": null,
      "metadata": {
        "colab": {
          "base_uri": "https://localhost:8080/",
          "height": 35
        },
        "id": "1qOUPG82nrzG",
        "outputId": "9719e022-e2ec-456d-d337-a49ac6dcb4d0"
      },
      "outputs": [
        {
          "name": "stdout",
          "output_type": "stream",
          "text": [
            "podil 2.857142857142857\n"
          ]
        }
      ],
      "source": [
        "# deleni\n",
        "print('podil', a / b)"
      ]
    },
    {
      "cell_type": "code",
      "execution_count": null,
      "metadata": {
        "colab": {
          "base_uri": "https://localhost:8080/",
          "height": 54
        },
        "id": "A9tX4CHJny_x",
        "outputId": "d9ae5987-5358-4b09-fc32-97dde4368982"
      },
      "outputs": [
        {
          "name": "stdout",
          "output_type": "stream",
          "text": [
            "podil 2.0\n",
            "celociselny podil 2\n"
          ]
        }
      ],
      "source": [
        "print('podil', a / 2)\n",
        "print('celociselny podil', a // 2)"
      ]
    },
    {
      "cell_type": "code",
      "execution_count": null,
      "metadata": {
        "colab": {
          "base_uri": "https://localhost:8080/",
          "height": 35
        },
        "id": "zNCDPRfvn79T",
        "outputId": "bca8fec7-688e-4fb0-fdf0-5c2a661cdab6"
      },
      "outputs": [
        {
          "name": "stdout",
          "output_type": "stream",
          "text": [
            "zbytek po deleni 1\n"
          ]
        }
      ],
      "source": [
        "# zbytek\n",
        "print('zbytek po deleni', a % 3)"
      ]
    },
    {
      "cell_type": "markdown",
      "metadata": {
        "id": "koE8rsVUhVOH"
      },
      "source": [
        "## Složené datové struktury"
      ]
    },
    {
      "cell_type": "code",
      "execution_count": null,
      "metadata": {
        "colab": {
          "base_uri": "https://localhost:8080/",
          "height": 54
        },
        "id": "t67T6otrhaZR",
        "outputId": "aab94cd9-7691-4612-99a0-9cf2e3b87fdb"
      },
      "outputs": [
        {
          "name": "stdout",
          "output_type": "stream",
          "text": [
            "[1, 2, 3]\n",
            "['Nazdar', 'svete']\n"
          ]
        }
      ],
      "source": [
        "# list / vektor\n",
        "e = [1, 2, 3]\n",
        "print(e)\n",
        "f = ['Nazdar', \"svete\"]\n",
        "print(f)"
      ]
    },
    {
      "cell_type": "code",
      "execution_count": null,
      "metadata": {
        "colab": {
          "base_uri": "https://localhost:8080/",
          "height": 54
        },
        "id": "BI8-CZdHhlwD",
        "outputId": "fe596cff-747a-47d3-8a6d-89cec0c9a11c"
      },
      "outputs": [
        {
          "name": "stdout",
          "output_type": "stream",
          "text": [
            "{'name': 'Josef', 'age': 5}\n",
            "Josef\n"
          ]
        }
      ],
      "source": [
        "# dictionary\n",
        "g = {'name': 'Josef', 'age': 5}\n",
        "print(g)\n",
        "print(g['name'])"
      ]
    },
    {
      "cell_type": "code",
      "execution_count": null,
      "metadata": {
        "colab": {
          "base_uri": "https://localhost:8080/",
          "height": 54
        },
        "id": "Xk_YN8PerS90",
        "outputId": "0b04c4a2-5acb-4797-b668-7a02b7f7d77c"
      },
      "outputs": [
        {
          "name": "stdout",
          "output_type": "stream",
          "text": [
            "[1, 2, 3]\n",
            "(1, 2, 3)\n"
          ]
        }
      ],
      "source": [
        "e = [1, 2, 3]\n",
        "print(e)\n",
        "\n",
        "# tuple\n",
        "et = (1, 2, 3)\n",
        "print(et)"
      ]
    },
    {
      "cell_type": "code",
      "execution_count": null,
      "metadata": {
        "id": "a2aQEbnzh2K9"
      },
      "outputs": [],
      "source": [
        "# tridy\n",
        "# jsou ponekud komplexnejsi"
      ]
    },
    {
      "cell_type": "code",
      "execution_count": null,
      "metadata": {
        "colab": {
          "base_uri": "https://localhost:8080/",
          "height": 35
        },
        "id": "1f7aYyp4qz7N",
        "outputId": "a7d48dda-033f-435d-e271-0573f885bb7c"
      },
      "outputs": [
        {
          "name": "stdout",
          "output_type": "stream",
          "text": [
            "{'name': 'Josef', 'age': 5, 'indexes': [1, 2, 3]}\n"
          ]
        }
      ],
      "source": [
        "# kombinace\n",
        "e = [1, 2, 3]\n",
        "gx = {'name': 'Josef', 'age': 5, 'indexes': e}\n",
        "print(gx)"
      ]
    },
    {
      "cell_type": "code",
      "execution_count": null,
      "metadata": {
        "colab": {
          "base_uri": "https://localhost:8080/",
          "height": 35
        },
        "id": "BLKXPGwmrAKa",
        "outputId": "56f2e0fe-a3b3-46df-fc9f-7417bfaf98ad"
      },
      "outputs": [
        {
          "name": "stdout",
          "output_type": "stream",
          "text": [
            "[{'name': 'Josef', 'age': 5}, {'name': 'Petr', 'age': 4}, {'name': 'Jan', 'age': 6}]\n"
          ]
        }
      ],
      "source": [
        "ex = [{'name': 'Josef', 'age': 5}, {'name': 'Petr', 'age': 4}, {'name': 'Jan', 'age': 6}]\n",
        "print(ex)"
      ]
    },
    {
      "cell_type": "markdown",
      "metadata": {
        "id": "JuI9VRTDoiR5"
      },
      "source": [
        "### Operátory"
      ]
    },
    {
      "cell_type": "code",
      "execution_count": null,
      "metadata": {
        "colab": {
          "base_uri": "https://localhost:8080/",
          "height": 35
        },
        "id": "lnaESDCsokTD",
        "outputId": "8cd337c5-d6e7-43fb-c01b-6cfa68165762"
      },
      "outputs": [
        {
          "name": "stdout",
          "output_type": "stream",
          "text": [
            "[1, 2, 3, 4]\n"
          ]
        }
      ],
      "source": [
        "e = [1, 2, 3]\n",
        "print(e + [4])"
      ]
    },
    {
      "cell_type": "code",
      "execution_count": null,
      "metadata": {
        "colab": {
          "base_uri": "https://localhost:8080/",
          "height": 35
        },
        "id": "bysC0cxepNDA",
        "outputId": "fa2d946d-d855-487f-e059-0e5b8118fd7f"
      },
      "outputs": [
        {
          "name": "stdout",
          "output_type": "stream",
          "text": [
            "[1, 2, 3, 1, 2, 3, 1, 2, 3, 1, 2, 3]\n"
          ]
        }
      ],
      "source": [
        "print(e * 4)"
      ]
    },
    {
      "cell_type": "code",
      "execution_count": null,
      "metadata": {
        "colab": {
          "base_uri": "https://localhost:8080/",
          "height": 35
        },
        "id": "nPyBFJt6o4M2",
        "outputId": "d3e8b8b8-f834-471d-eb04-e07479ca0991"
      },
      "outputs": [
        {
          "name": "stdout",
          "output_type": "stream",
          "text": [
            "1 2 3\n"
          ]
        }
      ],
      "source": [
        "# operator rozvinuti\n",
        "print(*e)"
      ]
    },
    {
      "cell_type": "code",
      "execution_count": null,
      "metadata": {
        "colab": {
          "base_uri": "https://localhost:8080/",
          "height": 54
        },
        "id": "RrcmsEr1p8Pd",
        "outputId": "cc97201b-49c4-44d5-df37-46648af24b1f"
      },
      "outputs": [
        {
          "name": "stdout",
          "output_type": "stream",
          "text": [
            "[1, 2, 3, 4]\n",
            "[1, 2, 3, 4]\n"
          ]
        }
      ],
      "source": [
        "e = [1, 2, 3]\n",
        "print(e + [4])\n",
        "print([*e, 4])"
      ]
    },
    {
      "cell_type": "code",
      "execution_count": null,
      "metadata": {
        "colab": {
          "base_uri": "https://localhost:8080/",
          "height": 35
        },
        "id": "FFGCkM0Sp00C",
        "outputId": "54d10d05-703c-4674-b0f5-e6d2101839d0"
      },
      "outputs": [
        {
          "name": "stdout",
          "output_type": "stream",
          "text": [
            "{'name': 'Josef', 'age': 5, 'value': 12}\n"
          ]
        }
      ],
      "source": [
        "# dictionary\n",
        "g = {'name': 'Josef', 'age': 5}\n",
        "g2 = {**g, 'value': 12}\n",
        "print(g2)"
      ]
    },
    {
      "cell_type": "markdown",
      "metadata": {
        "id": "xbiBw49qLPwH"
      },
      "source": [
        "## JSON"
      ]
    },
    {
      "cell_type": "code",
      "execution_count": null,
      "metadata": {
        "id": "__fEJ7sNLPwH",
        "outputId": "28551267-0bb4-4477-f655-0f3343e56d61"
      },
      "outputs": [
        {
          "name": "stdout",
          "output_type": "stream",
          "text": [
            "3f1e7720-561a-11ee-9e47-0242ac140004\n",
            "3f1e8152-561a-11ee-9e47-0242ac140004\n",
            "3f1e81b6-561a-11ee-9e47-0242ac140004\n",
            "3f1e81f2-561a-11ee-9e47-0242ac140004\n",
            "3f1e8224-561a-11ee-9e47-0242ac140004\n",
            "3f1e824c-561a-11ee-9e47-0242ac140004\n",
            "3f1e8274-561a-11ee-9e47-0242ac140004\n",
            "3f1e829c-561a-11ee-9e47-0242ac140004\n",
            "3f1e82c4-561a-11ee-9e47-0242ac140004\n",
            "3f1e82ec-561a-11ee-9e47-0242ac140004\n"
          ]
        }
      ],
      "source": [
        "import uuid\n",
        "for i in range(10):\n",
        "    print(f'{uuid.uuid1()}')"
      ]
    },
    {
      "cell_type": "code",
      "execution_count": null,
      "metadata": {
        "id": "JoTyznZ5LPwH"
      },
      "outputs": [],
      "source": [
        "data = {\n",
        "    \"users\": [\n",
        "        {\"id\": \"3f1e7720-561a-11ee-9e47-0242ac140004\"},\n",
        "        {\"id\": \"3f1e8152-561a-11ee-9e47-0242ac140004\"}\n",
        "    ],\n",
        "    \"groups\": [\n",
        "        {\"id\": \"3f1e81b6-561a-11ee-9e47-0242ac140004\", \"name\": \"G1\"},\n",
        "        {\"id\": \"3f1e81f2-561a-11ee-9e47-0242ac140004\", \"name\": \"G2\"}\n",
        "    ]\n",
        "\n",
        "}"
      ]
    },
    {
      "cell_type": "code",
      "execution_count": null,
      "metadata": {
        "id": "8aG0GgJlLPwI"
      },
      "outputs": [],
      "source": [
        "import json\n",
        "with open(\"./data.json\", \"w\") as jf:\n",
        "    json.dump(data, jf)"
      ]
    },
    {
      "cell_type": "code",
      "execution_count": null,
      "metadata": {
        "id": "0qUwWbvqLPwI",
        "outputId": "f65dbd07-454f-4791-b957-34d53b004ae2"
      },
      "outputs": [
        {
          "name": "stdout",
          "output_type": "stream",
          "text": [
            "{'users': [{'id': '3f1e7720-561a-11ee-9e47-0242ac140004'}, {'id': '3f1e8152-561a-11ee-9e47-0242ac140004'}], 'groups': [{'id': '3f1e81b6-561a-11ee-9e47-0242ac140004', 'name': 'G1'}, {'id': '3f1e81f2-561a-11ee-9e47-0242ac140004', 'name': 'G2'}]}\n"
          ]
        }
      ],
      "source": [
        "with open(\"./data.json\", \"r\") as jf:\n",
        "    data2 = json.load(jf)\n",
        "print(data2)"
      ]
    },
    {
      "cell_type": "markdown",
      "source": [
        "## Třídy"
      ],
      "metadata": {
        "id": "OIswQb7-LSYf"
      }
    },
    {
      "cell_type": "markdown",
      "source": [
        "### Dataclasses"
      ],
      "metadata": {
        "id": "wX_291S7LWbn"
      }
    },
    {
      "cell_type": "markdown",
      "source": [
        "`dataclasses` je modul v Pythonu (od verze 3.7), který pomocí dekorátoru `@dataclass` výrazně zjednodušuje psaní tříd nesoucích data: automaticky vygeneruje metody jako `__init__`, `__repr__`, `__eq__` a volitelně i porovnávání `(order=True)`, podporuje neměnné objekty `(frozen=True)`, úsporné uložení atributů `(slots=True)`, výchozí hodnoty a “default factory” přes `field(default=..., default_factory=...)`, i validace/konverze typů při použití type hints. K dispozici jsou i utility asdict/astuple pro převod na běžné struktury a replace pro vytvoření modifikované kopie. Dataclasses tak nahrazují boilerplate běžný u “POJO”/“DTO” tříd a udržují kód čitelný a typově jasný."
      ],
      "metadata": {
        "id": "8tqcDBYnMrMH"
      }
    },
    {
      "cell_type": "code",
      "source": [
        "import dataclasses\n",
        "\n",
        "@dataclasses.dataclass\n",
        "class User:\n",
        "    name: str\n",
        "    familyname: str\n",
        "\n",
        "u = User(name=\"John\", familyname=\"Newbie\")\n",
        "print(u)\n",
        "print(u.name)\n",
        "u.name = \"Julia\"\n",
        "print(u)"
      ],
      "metadata": {
        "colab": {
          "base_uri": "https://localhost:8080/"
        },
        "id": "hmYU93ZaLZs-",
        "outputId": "c550dc36-8648-4537-86c1-6147879c2636"
      },
      "execution_count": 5,
      "outputs": [
        {
          "output_type": "stream",
          "name": "stdout",
          "text": [
            "User(name='John', familyname='Newbie')\n",
            "John\n",
            "User(name='Julia', familyname='Newbie')\n"
          ]
        }
      ]
    },
    {
      "cell_type": "markdown",
      "metadata": {
        "id": "lqKXsKIFLPwI"
      },
      "source": [
        "## Soubory"
      ]
    },
    {
      "cell_type": "code",
      "execution_count": null,
      "metadata": {
        "id": "CqobtigPLPwI"
      },
      "outputs": [],
      "source": []
    },
    {
      "cell_type": "markdown",
      "metadata": {
        "id": "x9odgV2Th6yV"
      },
      "source": [
        "## Řídící struktury"
      ]
    },
    {
      "cell_type": "markdown",
      "metadata": {
        "id": "6uUw1eOakbxk"
      },
      "source": [
        "### Podmínky"
      ]
    },
    {
      "cell_type": "code",
      "execution_count": null,
      "metadata": {
        "colab": {
          "base_uri": "https://localhost:8080/",
          "height": 35
        },
        "id": "gOTnR23Wked4",
        "outputId": "698741c2-b211-4346-a296-f478726e2410"
      },
      "outputs": [
        {
          "name": "stdout",
          "output_type": "stream",
          "text": [
            "1.4  < 2\n"
          ]
        }
      ],
      "source": [
        "# if\n",
        "b = 1.4\n",
        "if b < 2:\n",
        "  print(b, ' < 2')\n",
        "else:\n",
        "  print(b, '>= 2')"
      ]
    },
    {
      "cell_type": "code",
      "execution_count": null,
      "metadata": {
        "colab": {
          "base_uri": "https://localhost:8080/",
          "height": 35
        },
        "id": "4KkQ3TwhlKHk",
        "outputId": "0e6f7a3a-bbf9-4d74-d1c9-288d4ec91a8a"
      },
      "outputs": [
        {
          "name": "stdout",
          "output_type": "stream",
          "text": [
            "1.4  < 2\n"
          ]
        }
      ],
      "source": [
        "# \"multi\" if\n",
        "b = 1.4\n",
        "if b < 1:\n",
        "  print(b, ' < 1')\n",
        "elif b < 2:\n",
        "  print(b, ' < 2')\n",
        "else:\n",
        "  print(b, '>= 2')"
      ]
    },
    {
      "cell_type": "markdown",
      "metadata": {
        "id": "6IJgLXsGh_Bf"
      },
      "source": [
        "### Cykly"
      ]
    },
    {
      "cell_type": "code",
      "execution_count": null,
      "metadata": {
        "colab": {
          "base_uri": "https://localhost:8080/",
          "height": 90
        },
        "id": "eRv0Wix_h9kd",
        "outputId": "c8dd9928-3f51-4586-8a2c-bf3e71aa1a1f"
      },
      "outputs": [
        {
          "name": "stdout",
          "output_type": "stream",
          "text": [
            "1\n",
            "2\n",
            "3\n",
            "4\n"
          ]
        }
      ],
      "source": [
        "# for\n",
        "data = [1, 2, 3, 4]\n",
        "for item in data:\n",
        "  print(item)"
      ]
    },
    {
      "cell_type": "code",
      "execution_count": null,
      "metadata": {
        "colab": {
          "base_uri": "https://localhost:8080/",
          "height": 90
        },
        "id": "viCU9qQpiKWX",
        "outputId": "ccc767fe-c288-4ddd-a5f7-5e0880686735"
      },
      "outputs": [
        {
          "name": "stdout",
          "output_type": "stream",
          "text": [
            "0 1\n",
            "1 2\n",
            "2 3\n",
            "3 4\n"
          ]
        }
      ],
      "source": [
        "# for s indexem, porovnej s predchazejicim\n",
        "for index, item in enumerate(data):\n",
        "  print(index, item)"
      ]
    },
    {
      "cell_type": "code",
      "execution_count": null,
      "metadata": {
        "colab": {
          "base_uri": "https://localhost:8080/",
          "height": 72
        },
        "id": "J3Zz3f5wjKBQ",
        "outputId": "e8e3facc-d932-4512-d2a8-1c3a8b380ec2"
      },
      "outputs": [
        {
          "name": "stdout",
          "output_type": "stream",
          "text": [
            "1\n",
            "2\n",
            "3\n"
          ]
        }
      ],
      "source": [
        "# https://docs.python.org/3/reference/compound_stmts.html?highlight=while#the-while-statement\n",
        "# while\n",
        "item = 0\n",
        "while item < 3:\n",
        "  item = item + 1\n",
        "  print(item)"
      ]
    },
    {
      "cell_type": "code",
      "execution_count": null,
      "metadata": {
        "colab": {
          "base_uri": "https://localhost:8080/",
          "height": 72
        },
        "id": "TMmIQyTBj93F",
        "outputId": "697ae2b4-b1e1-4941-e24f-a9c5657c4551"
      },
      "outputs": [
        {
          "name": "stdout",
          "output_type": "stream",
          "text": [
            "1\n",
            "2\n",
            "3\n"
          ]
        }
      ],
      "source": [
        "# while with break\n",
        "item = 0\n",
        "while True:\n",
        "  item = item + 1\n",
        "  print(item)\n",
        "  if item >= 3:\n",
        "    break\n",
        ""
      ]
    },
    {
      "cell_type": "markdown",
      "metadata": {
        "id": "gAmPgzSJl_Gt"
      },
      "source": [
        "## Funkce"
      ]
    },
    {
      "cell_type": "code",
      "execution_count": null,
      "metadata": {
        "colab": {
          "base_uri": "https://localhost:8080/",
          "height": 54
        },
        "id": "t9smglYOmEUL",
        "outputId": "a30f73a4-e0c8-4db9-ce19-d8eb2b754015"
      },
      "outputs": [
        {
          "name": "stdout",
          "output_type": "stream",
          "text": [
            "5\n",
            "23\n"
          ]
        }
      ],
      "source": [
        "def secti(x, y):\n",
        "    return x + y\n",
        "\n",
        "p = 2\n",
        "q = 3\n",
        "print(secti(p, q))\n",
        "\n",
        "pstr = '2'\n",
        "qstr = '3'\n",
        "print(secti(pstr, qstr)) # scitani textu"
      ]
    },
    {
      "cell_type": "markdown",
      "metadata": {
        "id": "Vg7N4Cu4LPwM"
      },
      "source": [
        "### Lambda"
      ]
    },
    {
      "cell_type": "code",
      "execution_count": null,
      "metadata": {
        "id": "GoJtMS07LPwM",
        "outputId": "0758b1b5-f6f2-4170-e635-ffd698d41486"
      },
      "outputs": [
        {
          "name": "stdout",
          "output_type": "stream",
          "text": [
            "5\n",
            "23\n"
          ]
        }
      ],
      "source": [
        "secti = lambda x, y: x + y\n",
        "\n",
        "p = 2\n",
        "q = 3\n",
        "print(secti(p, q))\n",
        "\n",
        "pstr = '2'\n",
        "qstr = '3'\n",
        "print(secti(pstr, qstr)) # scitani textu"
      ]
    },
    {
      "cell_type": "code",
      "execution_count": null,
      "metadata": {
        "id": "qOdZSnV0LPwM"
      },
      "outputs": [],
      "source": []
    }
  ],
  "metadata": {
    "colab": {
      "name": "python_programming.ipynb",
      "provenance": [],
      "toc_visible": true,
      "include_colab_link": true
    },
    "kernelspec": {
      "display_name": "Python 3 (ipykernel)",
      "language": "python",
      "name": "python3"
    },
    "language_info": {
      "codemirror_mode": {
        "name": "ipython",
        "version": 3
      },
      "file_extension": ".py",
      "mimetype": "text/x-python",
      "name": "python",
      "nbconvert_exporter": "python",
      "pygments_lexer": "ipython3",
      "version": "3.10.6"
    }
  },
  "nbformat": 4,
  "nbformat_minor": 0
}