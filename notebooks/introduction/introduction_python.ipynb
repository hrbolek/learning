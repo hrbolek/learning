{
  "nbformat": 4,
  "nbformat_minor": 0,
  "metadata": {
    "colab": {
      "name": "introduction.python.ipynb",
      "provenance": [],
      "toc_visible": true,
      "include_colab_link": true
    },
    "kernelspec": {
      "name": "python3",
      "display_name": "Python 3"
    }
  },
  "cells": [
    {
      "cell_type": "markdown",
      "metadata": {
        "id": "view-in-github",
        "colab_type": "text"
      },
      "source": [
        "<a href=\"https://colab.research.google.com/github/hrbolek/learning/blob/master/notebooks/introduction/introduction_python.ipynb\" target=\"_parent\"><img src=\"https://colab.research.google.com/assets/colab-badge.svg\" alt=\"Open In Colab\"/></a>"
      ]
    },
    {
      "cell_type": "markdown",
      "metadata": {
        "id": "t6U3faO3Yx9A"
      },
      "source": [
        "# Úvod do Jupyteru (s Pythonem)\n",
        "V tomto notebooku najdete jen nejnutnější základy. Na internetu existuje mnoho podrobnějších lekcí. Jednou z nich je https://beginnersbook.com/2018/03/python-tutorial-learn-programming/. Případně video https://www.youtube.com/watch?v=rfscVS0vtbw"
      ]
    },
    {
      "cell_type": "markdown",
      "metadata": {
        "id": "uirHtbTGoF8J"
      },
      "source": [
        "## Základní výpočty jako na kalkulačce"
      ]
    },
    {
      "cell_type": "code",
      "metadata": {
        "id": "eJ9nKSuctd2j",
        "colab": {
          "base_uri": "https://localhost:8080/"
        },
        "outputId": "c96f937c-4180-4f20-ba0c-bb6094738416"
      },
      "source": [
        "2 * 3"
      ],
      "execution_count": null,
      "outputs": [
        {
          "output_type": "execute_result",
          "data": {
            "text/plain": [
              "6"
            ]
          },
          "metadata": {
            "tags": []
          },
          "execution_count": 1
        }
      ]
    },
    {
      "cell_type": "markdown",
      "metadata": {
        "id": "lStdCzhtvPdB"
      },
      "source": [
        "Pozor na celá a na desetinná čísla. Porovnejte předchozí s následujícím."
      ]
    },
    {
      "cell_type": "code",
      "metadata": {
        "id": "I1wAmsKwvS_i",
        "colab": {
          "base_uri": "https://localhost:8080/"
        },
        "outputId": "1d3bfa46-6bfa-4817-de8c-655dbafa7868"
      },
      "source": [
        "2.0 * 3.0"
      ],
      "execution_count": null,
      "outputs": [
        {
          "output_type": "execute_result",
          "data": {
            "text/plain": [
              "6.0"
            ]
          },
          "metadata": {
            "tags": []
          },
          "execution_count": 2
        }
      ]
    },
    {
      "cell_type": "markdown",
      "metadata": {
        "id": "VdjRjVhmwNnH"
      },
      "source": [
        "## Tiskové výstupy\n",
        "Pro výstup (textový) se používá příkaz\n",
        "```python\n",
        "print(\"Nazdar světe\")\n",
        "```"
      ]
    },
    {
      "cell_type": "markdown",
      "metadata": {
        "id": "axQkc1NvoChP"
      },
      "source": [
        "## Práce s pamětí\n",
        "Každý výstup lze uložit do paměti, tedy proměnné, jejíž název si volíme podle potřeby. Obecné doporučení je používat tzv. velbloudí styl, kdy první písmeno je vždy malé, další slova začínají velkým písmenem.\n",
        "\n",
        "Příklady názvů proměnných:\n",
        "```python\n",
        "rychlostVetru\n",
        "bestOption\n",
        "bodA_x\n",
        "```"
      ]
    },
    {
      "cell_type": "code",
      "metadata": {
        "id": "PcaAIiTruqWY",
        "colab": {
          "base_uri": "https://localhost:8080/"
        },
        "outputId": "742daa24-3df6-4120-f221-1cadf7d5c7e0"
      },
      "source": [
        "a = 1.0\n",
        "b = 2\n",
        "c = a + b\n",
        "c"
      ],
      "execution_count": null,
      "outputs": [
        {
          "output_type": "execute_result",
          "data": {
            "text/plain": [
              "3.0"
            ]
          },
          "metadata": {
            "tags": []
          },
          "execution_count": 3
        }
      ]
    },
    {
      "cell_type": "code",
      "metadata": {
        "id": "KCiCwwzuwId0",
        "colab": {
          "base_uri": "https://localhost:8080/"
        },
        "outputId": "caedd170-9a39-4558-8cec-7634f97104dd"
      },
      "source": [
        "rychlostVetru = 10\n",
        "dobaLetu = 25\n",
        "draha = rychlostVetru * dobaLetu\n",
        "draha"
      ],
      "execution_count": null,
      "outputs": [
        {
          "output_type": "execute_result",
          "data": {
            "text/plain": [
              "250"
            ]
          },
          "metadata": {
            "tags": []
          },
          "execution_count": 4
        }
      ]
    },
    {
      "cell_type": "code",
      "metadata": {
        "id": "n4a1S9s4wMaA",
        "colab": {
          "base_uri": "https://localhost:8080/"
        },
        "outputId": "92c211a0-c24c-48c3-9aa5-8e92e31a4498"
      },
      "source": [
        "print(\"Nazdar světe\")"
      ],
      "execution_count": null,
      "outputs": [
        {
          "output_type": "stream",
          "text": [
            "Nazdar světe\n"
          ],
          "name": "stdout"
        }
      ]
    },
    {
      "cell_type": "code",
      "metadata": {
        "id": "QUw1PcaOy2gP",
        "colab": {
          "base_uri": "https://localhost:8080/"
        },
        "outputId": "716b345d-110a-4dbd-8bc1-622e9a40b32a"
      },
      "source": [
        "v = 10\n",
        "t = 25\n",
        "s = v * t\n",
        "print(\"s =\", s, \"[m/s]\")"
      ],
      "execution_count": null,
      "outputs": [
        {
          "output_type": "stream",
          "text": [
            "s = 250 [m/s]\n"
          ],
          "name": "stdout"
        }
      ]
    },
    {
      "cell_type": "markdown",
      "metadata": {
        "id": "iMUe-RkjH9mc"
      },
      "source": [
        "## Základní typy dat\n",
        "\n",
        "celé číslo\n",
        "```python\n",
        "5\n",
        "```\n",
        "desetinné číslo\n",
        "```python\n",
        "5.0\n",
        "```\n",
        "text\n",
        "```python\n",
        "'Nazdar světe'\n",
        "\"Nazdar světe\"\n",
        "```\n",
        "logická hodnota\n",
        "```python\n",
        "True\n",
        "False\n",
        "```\n",
        "komplexní číslo\n",
        "```python\n",
        "5+1j\n",
        "5+0j\n",
        "1j\n",
        "```\n"
      ]
    },
    {
      "cell_type": "code",
      "metadata": {
        "id": "EIRAvNuBXcGH",
        "colab": {
          "base_uri": "https://localhost:8080/"
        },
        "outputId": "daff42e4-fd2f-4780-eacb-b4bdc0018e9b"
      },
      "source": [
        "print(5)\n",
        "print(5.0)\n",
        "print('Nazdar světe')\n",
        "print(\"Nazdar světe\")\n",
        "print(5+1j)\n",
        "print(5+0j)\n",
        "print(1j)"
      ],
      "execution_count": null,
      "outputs": [
        {
          "output_type": "stream",
          "text": [
            "5\n",
            "5.0\n",
            "Nazdar světe\n",
            "Nazdar světe\n",
            "(5+1j)\n",
            "(5+0j)\n",
            "1j\n"
          ],
          "name": "stdout"
        }
      ]
    },
    {
      "cell_type": "markdown",
      "metadata": {
        "id": "53umHdauIoha"
      },
      "source": [
        "## Základní matematické funkce\n",
        "Jsou dostupné v knihovně math. Knihovny je potřeba importovat."
      ]
    },
    {
      "cell_type": "code",
      "metadata": {
        "id": "7krzcZ3yIsoy",
        "colab": {
          "base_uri": "https://localhost:8080/"
        },
        "outputId": "11969d03-6835-4a8b-e631-10de562e059c"
      },
      "source": [
        "from math import *\n",
        "\n",
        "print(pi)\n",
        "cos_pi = cos(pi)\n",
        "sin_pi = sin(pi)\n",
        "tan_pi = tan(pi)\n",
        "print('cos_pi, sin_pi, tan_pi:', cos_pi, sin_pi, tan_pi)\n",
        "\n",
        "acos_0 = acos(0)\n",
        "asin_0 = asin(0)\n",
        "atan_0 = atan(0)\n",
        "print('acos_0, asin_0, atan_0:', acos_0, asin_0, atan_0)\n",
        "\n",
        "exp_1 = exp(1)\n",
        "log_10 = log(10)\n",
        "log10_10 = log10(10)\n",
        "pow_10_3 = pow(10, 3)\n",
        "print('exp_1, log_10, log10_10, pow_10_3:', exp_1, log_10, log10_10, pow_10_3)\n",
        "\n",
        "sqrt_4 = sqrt(4)\n",
        "print('sqrt_4', sqrt_4)"
      ],
      "execution_count": null,
      "outputs": [
        {
          "output_type": "stream",
          "text": [
            "3.141592653589793\n",
            "cos_pi, sin_pi, tan_pi: -1.0 1.2246467991473532e-16 -1.2246467991473532e-16\n",
            "acos_0, asin_0, atan_0: 1.5707963267948966 0.0 0.0\n",
            "exp_1, log_10, log10_10, pow_10_3: 2.718281828459045 2.302585092994046 1.0 1000.0\n",
            "sqrt_4 2.0\n"
          ],
          "name": "stdout"
        }
      ]
    },
    {
      "cell_type": "markdown",
      "metadata": {
        "id": "BMzqxD8r1Wj8"
      },
      "source": [
        "## Vektory\n"
      ]
    },
    {
      "cell_type": "code",
      "metadata": {
        "id": "LclRKwgR1jpb",
        "colab": {
          "base_uri": "https://localhost:8080/"
        },
        "outputId": "a816db3a-2873-4cfc-bfde-5f568253df83"
      },
      "source": [
        "t_a = [0, 1, 2, 3, 4, 5, 6, 7, 8, 9, 10]\n",
        "s_a = [0, 1, 4, 9, 9, 9, 9, 9, 9, 9, 9]\n",
        "print(t_a)\n",
        "print(s_a)"
      ],
      "execution_count": null,
      "outputs": [
        {
          "output_type": "stream",
          "text": [
            "[0, 1, 2, 3, 4, 5, 6, 7, 8, 9, 10]\n",
            "[0, 1, 4, 9, 9, 9, 9, 9, 9, 9, 9]\n"
          ],
          "name": "stdout"
        }
      ]
    },
    {
      "cell_type": "markdown",
      "metadata": {
        "id": "C1gO1TT6MdCh"
      },
      "source": [
        "### Matematické funkce pro práci s vektory\n",
        "Zde jsou představeny vybrané funkce, které jsou součástí knihnovny numpy.\n",
        "Oficiální quickstart guide je zde https://docs.scipy.org/doc/numpy/user/quickstart.html ."
      ]
    },
    {
      "cell_type": "code",
      "metadata": {
        "id": "W0MiKpXSNX1E",
        "colab": {
          "base_uri": "https://localhost:8080/"
        },
        "outputId": "278f9af5-b37c-4ae7-d7db-3b903c9ccf83"
      },
      "source": [
        "import numpy as np\n",
        "t = np.linspace(1, 50)\n",
        "t2 = np.linspace(10, 50, 5)\n",
        "values = np.logspace(1, 50)\n",
        "print('t / linspace =', t)\n",
        "print('t2 = ', t2)\n",
        "print('values / logspace =', values)\n",
        "\n",
        "t3 = t * 3\n",
        "print('t * 3 =', t3)\n",
        "sin_t = np.sin(t)\n",
        "print('sin(t) = ', sin_t)"
      ],
      "execution_count": null,
      "outputs": [
        {
          "output_type": "stream",
          "text": [
            "t / linspace = [ 1.  2.  3.  4.  5.  6.  7.  8.  9. 10. 11. 12. 13. 14. 15. 16. 17. 18.\n",
            " 19. 20. 21. 22. 23. 24. 25. 26. 27. 28. 29. 30. 31. 32. 33. 34. 35. 36.\n",
            " 37. 38. 39. 40. 41. 42. 43. 44. 45. 46. 47. 48. 49. 50.]\n",
            "t2 =  [10. 20. 30. 40. 50.]\n",
            "values / logspace = [1.e+01 1.e+02 1.e+03 1.e+04 1.e+05 1.e+06 1.e+07 1.e+08 1.e+09 1.e+10\n",
            " 1.e+11 1.e+12 1.e+13 1.e+14 1.e+15 1.e+16 1.e+17 1.e+18 1.e+19 1.e+20\n",
            " 1.e+21 1.e+22 1.e+23 1.e+24 1.e+25 1.e+26 1.e+27 1.e+28 1.e+29 1.e+30\n",
            " 1.e+31 1.e+32 1.e+33 1.e+34 1.e+35 1.e+36 1.e+37 1.e+38 1.e+39 1.e+40\n",
            " 1.e+41 1.e+42 1.e+43 1.e+44 1.e+45 1.e+46 1.e+47 1.e+48 1.e+49 1.e+50]\n",
            "t * 3 = [  3.   6.   9.  12.  15.  18.  21.  24.  27.  30.  33.  36.  39.  42.\n",
            "  45.  48.  51.  54.  57.  60.  63.  66.  69.  72.  75.  78.  81.  84.\n",
            "  87.  90.  93.  96.  99. 102. 105. 108. 111. 114. 117. 120. 123. 126.\n",
            " 129. 132. 135. 138. 141. 144. 147. 150.]\n",
            "sin(t) =  [ 0.84147098  0.90929743  0.14112001 -0.7568025  -0.95892427 -0.2794155\n",
            "  0.6569866   0.98935825  0.41211849 -0.54402111 -0.99999021 -0.53657292\n",
            "  0.42016704  0.99060736  0.65028784 -0.28790332 -0.96139749 -0.75098725\n",
            "  0.14987721  0.91294525  0.83665564 -0.00885131 -0.8462204  -0.90557836\n",
            " -0.13235175  0.76255845  0.95637593  0.27090579 -0.66363388 -0.98803162\n",
            " -0.40403765  0.55142668  0.99991186  0.52908269 -0.42818267 -0.99177885\n",
            " -0.64353813  0.29636858  0.96379539  0.74511316 -0.15862267 -0.91652155\n",
            " -0.83177474  0.01770193  0.85090352  0.90178835  0.12357312 -0.76825466\n",
            " -0.95375265 -0.26237485]\n"
          ],
          "name": "stdout"
        }
      ]
    },
    {
      "cell_type": "code",
      "metadata": {
        "id": "1lazbdHGTthd"
      },
      "source": [],
      "execution_count": null,
      "outputs": []
    },
    {
      "cell_type": "markdown",
      "metadata": {
        "id": "LRNV0JfqQqTZ"
      },
      "source": [
        "## Matematické funkce pro práci s maticemi"
      ]
    },
    {
      "cell_type": "code",
      "metadata": {
        "id": "lLQ91QGoQvsA",
        "colab": {
          "base_uri": "https://localhost:8080/"
        },
        "outputId": "74ac5549-dde7-4584-8232-9731f5bafe30"
      },
      "source": [
        "A = np.zeros((3, 4))\n",
        "B = np.ones((3, 4))\n",
        "print('A = \\n', A)\n",
        "print('B = \\n', B)"
      ],
      "execution_count": null,
      "outputs": [
        {
          "output_type": "stream",
          "text": [
            "A = \n",
            " [[0. 0. 0. 0.]\n",
            " [0. 0. 0. 0.]\n",
            " [0. 0. 0. 0.]]\n",
            "B = \n",
            " [[1. 1. 1. 1.]\n",
            " [1. 1. 1. 1.]\n",
            " [1. 1. 1. 1.]]\n"
          ],
          "name": "stdout"
        }
      ]
    },
    {
      "cell_type": "markdown",
      "metadata": {
        "id": "piUvgp-m1suu"
      },
      "source": [
        "## Grafické výstupy"
      ]
    },
    {
      "cell_type": "code",
      "metadata": {
        "id": "Kt0iYZY-1vMu",
        "colab": {
          "base_uri": "https://localhost:8080/",
          "height": 298
        },
        "outputId": "600078cc-c439-4ea2-e550-7c73f864271c"
      },
      "source": [
        "import matplotlib.pyplot as plt\n",
        "import numpy as np\n",
        "%matplotlib inline\n",
        "\n",
        "t = np.linspace(0, 4 * pi, 100)\n",
        "u = 230 * np.sin(t)\n",
        "plt.plot(t, u, 'g-', label = 'U', lw = 2)\n",
        "#plt.plot(t_a, t_a, 'b--', label = '1', lw = 1)\n",
        "plt.xlabel('čas t [ms]')\n",
        "plt.ylabel('napětí U [V]')\n",
        "plt.grid(which = 'both')\n",
        "plt.legend()\n"
      ],
      "execution_count": null,
      "outputs": [
        {
          "output_type": "execute_result",
          "data": {
            "text/plain": [
              "<matplotlib.legend.Legend at 0x7f203d11a748>"
            ]
          },
          "metadata": {
            "tags": []
          },
          "execution_count": 81
        },
        {
          "output_type": "display_data",
          "data": {
            "image/png": "[encoded data removed]",
            "text/plain": [
              "<Figure size 432x288 with 1 Axes>"
            ]
          },
          "metadata": {
            "tags": []
          }
        }
      ]
    },
    {
      "cell_type": "code",
      "metadata": {
        "id": "bqExvb7kSfno",
        "colab": {
          "base_uri": "https://localhost:8080/",
          "height": 265
        },
        "outputId": "4c789466-ce35-4ba2-fc92-20c6a06b3e11"
      },
      "source": [
        "t = np.linspace(-pi, pi)\n",
        "sin_t = np.sin(t)\n",
        "plt.plot(t, sin_t)\n",
        "plt.grid(which = 'both')\n"
      ],
      "execution_count": null,
      "outputs": [
        {
          "output_type": "display_data",
          "data": {
            "image/png": "[encoded data removed]",
            "text/plain": [
              "<Figure size 432x288 with 1 Axes>"
            ]
          },
          "metadata": {
            "tags": []
          }
        }
      ]
    }
  ]
}